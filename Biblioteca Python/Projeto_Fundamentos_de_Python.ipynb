{
  "nbformat": 4,
  "nbformat_minor": 0,
  "metadata": {
    "colab": {
      "provenance": [],
      "authorship_tag": "ABX9TyNoCWunBPZZYRPCgDMfhzmd",
      "include_colab_link": true
    },
    "kernelspec": {
      "name": "python3",
      "display_name": "Python 3"
    },
    "language_info": {
      "name": "python"
    }
  },
  "cells": [
    {
      "cell_type": "markdown",
      "metadata": {
        "id": "view-in-github",
        "colab_type": "text"
      },
      "source": [
        "<a href=\"https://colab.research.google.com/github/IngridLaila/Conteudo_Didatico/blob/main/Biblioteca%20Python/Projeto_Fundamentos_de_Python.ipynb\" target=\"_parent\"><img src=\"https://colab.research.google.com/assets/colab-badge.svg\" alt=\"Open In Colab\"/></a>"
      ]
    },
    {
      "cell_type": "markdown",
      "source": [
        "## **Projeto Fundamentos de Python**\n",
        "\n",
        "Escola: SoulCode Academy\n",
        "\n",
        "Curso: Bootcamp Analista de Dados - Martech - AD2\n",
        "\n",
        "Professora: Franciane Rodrigues e Douglas Ribeiro\n",
        "\n",
        "Aluna: Ingrid Laila"
      ],
      "metadata": {
        "id": "iKxRom1Lam-h"
      }
    },
    {
      "cell_type": "code",
      "source": [
        "# Entrada de dados\n",
        "n1 = input('Informe uma sequência de n números inteiros separados por espaços: ')\n",
        "n2 = input('''Informe outra sequência de números inteiros separados por espaços\n",
        "com a mesma quantidade informada na lista anterior: ''')\n",
        "\n",
        "# Criação de duas listas: X e Y\n",
        "x = n1.split()\n",
        "y = n2.split()\n",
        "\n",
        "# For para converter os valores das listas para float\n",
        "for i in range(len(x)):\n",
        "  x[i] = float(x[i])\n",
        "  y[i] = float(y[i])\n"
      ],
      "metadata": {
        "colab": {
          "base_uri": "https://localhost:8080/"
        },
        "id": "wnMHlA0gbNuE",
        "outputId": "825a6e50-46c3-414a-dd4f-46bd3f1aa32c"
      },
      "execution_count": null,
      "outputs": [
        {
          "name": "stdout",
          "output_type": "stream",
          "text": [
            "Informe uma sequência de n números inteiros separados por espaços: 1000 2 3 4 5 -100 6 7 8 9 10\n",
            "Informe outra sequência de números inteiros separados por espaços\n",
            "com a mesma quantidade informada na lista anterior: 1 2 3 4 5 100 6 7 8 9 10\n"
          ]
        }
      ]
    },
    {
      "cell_type": "markdown",
      "source": [
        "Média das listas X e Y"
      ],
      "metadata": {
        "id": "uuEBTpl5lV9e"
      }
    },
    {
      "cell_type": "code",
      "source": [
        "# Iniciando o contador:\n",
        "i = 0\n",
        "j = 0\n",
        "\n",
        "# Loop para calcular a média da lista x\n",
        "while i < len(x):\n",
        "  media = (sum(x))/ len(x)\n",
        "  i+=1 #incremetador\n",
        "\n",
        "# Loop para calcular a média da lista y\n",
        "while j < len(y):\n",
        "  media1 = (sum(y))/ len(y)\n",
        "  j+=1 #incremetador\n",
        "\n",
        "# Apresenta a média\n",
        "print('A média da lista X é', media)\n",
        "print('A média da lista Y é', media1)\n",
        "\n",
        "\n"
      ],
      "metadata": {
        "colab": {
          "base_uri": "https://localhost:8080/"
        },
        "id": "dzvADtWejTvw",
        "outputId": "bb75621d-b5bc-4bd1-bfc7-ecfda21f9a5f"
      },
      "execution_count": null,
      "outputs": [
        {
          "output_type": "stream",
          "name": "stdout",
          "text": [
            "A média da lista X é 86.72727272727273\n",
            "A média da lista Y é 14.090909090909092\n"
          ]
        }
      ]
    },
    {
      "cell_type": "markdown",
      "source": [
        "Mediana de X e Y\n"
      ],
      "metadata": {
        "id": "CEOp9xTZlz8V"
      }
    },
    {
      "cell_type": "code",
      "source": [
        "# colocando as listas em ordem crescente\n",
        "lista1 = sorted(x)\n",
        "lista2 = sorted(y)\n",
        "\n",
        "# quantidade de elementos na lista\n",
        "n = len(lista1)\n",
        "n1 = len(lista2)\n",
        "\n",
        "# Mediana de X\n",
        "# Verifica se a qtd de valores é par ou ímpar\n",
        "if len(x) % 2 == 0:\n",
        "    meio = n // 2\n",
        "    mediana = (lista1[meio - 1] + lista1[meio]) / 2  # corresponde a formula n + 1/ 2\n",
        "else:\n",
        "    mediana = lista1[n // 2] # acessa o índice que está a mediana\n",
        "\n",
        "# Mediana de Y\n",
        "if len(y) % 2 == 0:\n",
        "  meio = n1 // 2\n",
        "  medianaY = (lista2[meio - 1] + lista2[meio]) / 2\n",
        "else:\n",
        "  medianaY = lista2[n1 // 2]\n",
        "\n",
        "print(f'A mediana da lista X, {lista1} é: ', mediana)\n",
        "print(f'A mediana da lista Y, {lista2} é: ', medianaY)"
      ],
      "metadata": {
        "colab": {
          "base_uri": "https://localhost:8080/"
        },
        "id": "cor00i3zl4BH",
        "outputId": "601a2676-3635-46d9-a9d6-fea0f57437d8"
      },
      "execution_count": null,
      "outputs": [
        {
          "output_type": "stream",
          "name": "stdout",
          "text": [
            "A mediana da lista X, [-100.0, 2.0, 3.0, 4.0, 5.0, 6.0, 7.0, 8.0, 9.0, 10.0, 1000.0] é:  6.0\n",
            "A mediana da lista Y, [1.0, 2.0, 3.0, 4.0, 5.0, 6.0, 7.0, 8.0, 9.0, 10.0, 100.0] é:  6.0\n"
          ]
        }
      ]
    },
    {
      "cell_type": "markdown",
      "source": [
        "Moda da lista X\n"
      ],
      "metadata": {
        "id": "bDX29xgeC7WW"
      }
    },
    {
      "cell_type": "code",
      "source": [
        "max_frequencia = 0  # Variável para armazenar a frequência máxima\n",
        "moda = []  # Lista para armazenar os números que aparecem com maior frequência\n",
        "\n",
        "for i in range(len(x)):\n",
        "  frequencia = 0  # Variável para contar a frequência de cada número\n",
        "\n",
        "  for j in range(len(x)):\n",
        "    if x[j] == x[i]:\n",
        "      frequencia += 1  # Incrementa a frequência se o número se repetir na lista\n",
        "\n",
        "  if frequencia > max_frequencia:\n",
        "    moda = [x[i]]  # Atualiza a moda com um novo número com maior frequência\n",
        "    max_frequencia = frequencia  # Atualiza a frequência máxima\n",
        "  elif frequencia == max_frequencia and x[i] not in moda:\n",
        "    moda.append(x[i])  # Adiciona o número à moda se tiver a mesma frequência máxima\n",
        "\n",
        "if max_frequencia == 1:\n",
        "  print(\"A lista é amodal\")\n",
        "else:\n",
        "  print('Moda', moda)\n",
        "\n",
        "\n"
      ],
      "metadata": {
        "colab": {
          "base_uri": "https://localhost:8080/"
        },
        "id": "voaVtTliC_iG",
        "outputId": "10b37ea7-562d-48a9-9a82-2fba35a7e18f"
      },
      "execution_count": null,
      "outputs": [
        {
          "output_type": "stream",
          "name": "stdout",
          "text": [
            "A lista é amodal\n"
          ]
        }
      ]
    },
    {
      "cell_type": "markdown",
      "source": [
        "Moda da lista Y"
      ],
      "metadata": {
        "id": "PJVJW30AKwZ2"
      }
    },
    {
      "cell_type": "code",
      "source": [
        "max_frequencia = 0  # Variável para armazenar a frequência máxima\n",
        "moda = []  # Lista para armazenar os números que aparecem com maior frequência\n",
        "\n",
        "for i in range(len(y)):\n",
        "  frequencia = 0  # Variável para contar a frequência de cada número\n",
        "\n",
        "  for j in range(len(y)):\n",
        "    if y[j] == y[i]:\n",
        "      frequencia += 1  # Incrementa a frequência se o número se repetir na lista\n",
        "\n",
        "  if frequencia > max_frequencia:\n",
        "    moda = [y[i]]  # Atualiza a moda com um novo número com maior frequência\n",
        "    max_frequencia = frequencia  # Atualiza a frequência máxima\n",
        "  elif frequencia == max_frequencia and y[i] not in moda:\n",
        "    moda.append(y[i])  # Adiciona o número à moda se tiver a mesma frequência máxima\n",
        "\n",
        "if max_frequencia == 1:\n",
        "  print(\"A lista é amodal\")\n",
        "else:\n",
        "  print('Moda', moda)"
      ],
      "metadata": {
        "colab": {
          "base_uri": "https://localhost:8080/"
        },
        "id": "xxBSkKM6KYUb",
        "outputId": "7fead3b3-25f1-4100-d11a-5fbeb3558c51"
      },
      "execution_count": null,
      "outputs": [
        {
          "output_type": "stream",
          "name": "stdout",
          "text": [
            "A lista é amodal\n"
          ]
        }
      ]
    },
    {
      "cell_type": "markdown",
      "source": [
        "Variância amostral da lista X"
      ],
      "metadata": {
        "id": "wgAgSqMaN3FZ"
      }
    },
    {
      "cell_type": "code",
      "source": [
        "# Inicializa uma variável soma_quadrados como zero para acumular a soma dos quadrados das diferenças entre cada valor em x e a média.\n",
        "soma_quadrado = 0\n",
        "\n",
        "# Em um loop, percorre cada valor em x e adiciona o quadrado da diferença entre o valor e a média à variável soma_quadrados\n",
        "for i in range(len(x)):\n",
        "  soma_quadrado += (x[i] - media) ** 2\n",
        "\n",
        "# Divide a soma dos quadrados das diferenças pelo número de elementos menos 1 para obter a variância amostral.\n",
        "varianciaX = soma_quadrado /(len(x) - 1)\n",
        "\n",
        "print(f'A variância de X, {x} é ', round(varianciaX,2))\n",
        "\n"
      ],
      "metadata": {
        "colab": {
          "base_uri": "https://localhost:8080/"
        },
        "id": "iqjCu8G-N5uz",
        "outputId": "d3aa7458-a2ed-4af5-d261-48451ee10154"
      },
      "execution_count": null,
      "outputs": [
        {
          "output_type": "stream",
          "name": "stdout",
          "text": [
            "A variância de X, [1000.0, 2.0, 3.0, 4.0, 5.0, -100.0, 6.0, 7.0, 8.0, 9.0, 10.0] é  92764.62\n"
          ]
        }
      ]
    },
    {
      "cell_type": "markdown",
      "source": [
        "Variância amostral da lista Y"
      ],
      "metadata": {
        "id": "hEJdPsjsWTZI"
      }
    },
    {
      "cell_type": "code",
      "source": [
        "# Inicializa uma variável soma_quadrados como zero para acumular a soma dos quadrados das diferenças entre cada valor em y e a média.\n",
        "soma_quadrado = 0\n",
        "\n",
        "# Em um loop, percorre cada valor em y e adiciona o quadrado da diferença entre o valor e a média à variável soma_quadrados\n",
        "for i in range(len(y)):\n",
        "  soma_quadrado += (y[i] - media1) ** 2\n",
        "\n",
        "# Divide a soma dos quadrados das diferenças pelo número de elementos menos 1 para obter a variância amostral.\n",
        "varianciaY = soma_quadrado /(len(y) - 1)\n",
        "\n",
        "print(f'A variância de Y, {y} é ', round(varianciaY,2))"
      ],
      "metadata": {
        "colab": {
          "base_uri": "https://localhost:8080/"
        },
        "id": "suez5JjaUNHp",
        "outputId": "120cf82a-81f4-452b-d8d3-c6b6677ccb15"
      },
      "execution_count": null,
      "outputs": [
        {
          "output_type": "stream",
          "name": "stdout",
          "text": [
            "A variância de Y, [1.0, 2.0, 3.0, 4.0, 5.0, 100.0, 6.0, 7.0, 8.0, 9.0, 10.0] é  820.09\n"
          ]
        }
      ]
    },
    {
      "cell_type": "markdown",
      "source": [
        "Desvio Padrão amostral de X"
      ],
      "metadata": {
        "id": "IXDpRwQ4WkjZ"
      }
    },
    {
      "cell_type": "code",
      "source": [
        "desvio_X = varianciaX ** (1/2)\n",
        "print('O desvio de X é ', round(desvio_X,2))\n"
      ],
      "metadata": {
        "colab": {
          "base_uri": "https://localhost:8080/"
        },
        "id": "4a7y6IHbWqSD",
        "outputId": "a257efc9-7cf6-457a-ea24-079f6cb71909"
      },
      "execution_count": null,
      "outputs": [
        {
          "output_type": "stream",
          "name": "stdout",
          "text": [
            "O desvio de X é  304.57\n"
          ]
        }
      ]
    },
    {
      "cell_type": "markdown",
      "source": [
        "Desvio Padrão amostral de Y"
      ],
      "metadata": {
        "id": "9ZMXiZWzWocl"
      }
    },
    {
      "cell_type": "code",
      "source": [
        "desvio_Y = varianciaY ** (1/2)\n",
        "print('O desvio de Y é ', round(desvio_Y,2))"
      ],
      "metadata": {
        "colab": {
          "base_uri": "https://localhost:8080/"
        },
        "id": "DLAXmWMxWqpM",
        "outputId": "111136c8-1afd-4794-c460-bfc93d328dd7"
      },
      "execution_count": null,
      "outputs": [
        {
          "output_type": "stream",
          "name": "stdout",
          "text": [
            "O desvio de Y é  28.64\n"
          ]
        }
      ]
    },
    {
      "cell_type": "markdown",
      "source": [
        "Amplitude total de X"
      ],
      "metadata": {
        "id": "HBQ9ruF3XwXa"
      }
    },
    {
      "cell_type": "code",
      "source": [
        "# Valor Mínimo\n",
        "print(f'O valor mínimo de X, {x} é ',min(x))\n",
        "\n",
        "# Valor Máximo\n",
        "print(f'O valor máximo de X, {x} é ',max(x))\n",
        "\n",
        "# Amplitude Total\n",
        "at = max(x) - min(x)\n",
        "print('Amplitude Total ', at)\n"
      ],
      "metadata": {
        "colab": {
          "base_uri": "https://localhost:8080/"
        },
        "id": "YxNwXyTLYEHu",
        "outputId": "b71d389c-ab7e-438e-8432-941c6b628bc6"
      },
      "execution_count": null,
      "outputs": [
        {
          "output_type": "stream",
          "name": "stdout",
          "text": [
            "O valor mínimo de X, [1000.0, 2.0, 3.0, 4.0, 5.0, -100.0, 6.0, 7.0, 8.0, 9.0, 10.0] é  -100.0\n",
            "O valor máximo de X, [1000.0, 2.0, 3.0, 4.0, 5.0, -100.0, 6.0, 7.0, 8.0, 9.0, 10.0] é  1000.0\n",
            "Amplitude Total  1100.0\n"
          ]
        }
      ]
    },
    {
      "cell_type": "markdown",
      "source": [
        "Amplitude total de Y\n"
      ],
      "metadata": {
        "id": "16ap2k1CYEiz"
      }
    },
    {
      "cell_type": "code",
      "source": [
        "# Valor Mínimo\n",
        "print(f'O valor mínimo de Y, {y} é ',min(y))\n",
        "\n",
        "# Valor Máximo\n",
        "print(f'O valor máximo de Y, {y} é ',max(y))\n",
        "\n",
        "# Amplitude Total\n",
        "at = max(y) - min(y)\n",
        "print('Amplitude Total ', at)\n"
      ],
      "metadata": {
        "colab": {
          "base_uri": "https://localhost:8080/"
        },
        "id": "1ZZCOBfbY0iu",
        "outputId": "0717f5ac-8c3f-4cdd-8acc-9d68daad5ca7"
      },
      "execution_count": null,
      "outputs": [
        {
          "output_type": "stream",
          "name": "stdout",
          "text": [
            "O valor mínimo de Y, [1.0, 2.0, 3.0, 4.0, 5.0, 100.0, 6.0, 7.0, 8.0, 9.0, 10.0] é  1.0\n",
            "O valor máximo de Y, [1.0, 2.0, 3.0, 4.0, 5.0, 100.0, 6.0, 7.0, 8.0, 9.0, 10.0] é  100.0\n",
            "Amplitude Total  99.0\n"
          ]
        }
      ]
    },
    {
      "cell_type": "markdown",
      "source": [
        "Q1 (primeiro quartil) de X\n"
      ],
      "metadata": {
        "id": "X6O2xhxvZDGF"
      }
    },
    {
      "cell_type": "code",
      "source": [
        "# Defini uma variável n como o tamanho da lista x, ou seja, o número de elementos na lista\n",
        "n = len(x)\n",
        "\n",
        "# A variável prepresenta o percentil desejado, que no caso é 0,25, correspondente ao primeiro quartil (Q1).\n",
        "p = 0.25\n",
        "\n",
        "# lista_ordenada é uma versão ordenada da lista x\n",
        "lista_ordenada = sorted(x)\n",
        "\n",
        "# Calcula a posição do quartil multiplicando o tamanho da lista nsomado a 1 pelo valor do percentil p.\n",
        "posicao = (n + 1) * p\n",
        "\n",
        "# verifica se a posição do quartil posicaoé um número inteiro.\n",
        "# Se a posição do quartil for um número inteiro, significa que existe um valor exato na lista ordenada correspondente ao quartil desejado. Nesse caso, atribuímos esse valor à variável q1 diretamente.\n",
        "if posicao.is_integer():\n",
        "  q1 = lista_ordenada[int(posicao) - 1]\n",
        "  print('Q1 é ', q1)\n",
        "# Caso a posição do quartil não seja um número inteiro:\n",
        "# Se a posição do quartil não for um número inteiro, significa que ela está entre dois valores da lista ordenada. Nesse caso, precisamos fazer uma média entre esses dois valores para obter o valor do quartil.\n",
        "else:\n",
        "  posicao_inferior = int(posicao)\n",
        "  posicao_superior = posicao_inferior + 1\n",
        "  valor_inferior = lista_ordenada[posicao_inferior - 1]\n",
        "  valor_superior = lista_ordenada[posicao_superior - 1]\n",
        "  q1 = (valor_inferior + valor_superior) / 2\n",
        "  print('Q1 é ', q1)\n",
        "\n"
      ],
      "metadata": {
        "colab": {
          "base_uri": "https://localhost:8080/"
        },
        "id": "uOvnF3qLarDF",
        "outputId": "c1edaf34-0403-4708-e86f-6747a168b45b"
      },
      "execution_count": null,
      "outputs": [
        {
          "output_type": "stream",
          "name": "stdout",
          "text": [
            "Q1 é  3.0\n"
          ]
        }
      ]
    },
    {
      "cell_type": "markdown",
      "source": [
        "Q1 (primeiro quartil) de Y\n"
      ],
      "metadata": {
        "id": "fh9FFCNujWQz"
      }
    },
    {
      "cell_type": "code",
      "source": [
        "# Defini uma variável n como o tamanho da lista y, ou seja, o número de elementos na lista\n",
        "n = len(y)\n",
        "\n",
        "# A variável prepresenta o percentil desejado, que no caso é 0,25, correspondente ao primeiro quartil (Q1).\n",
        "p = 0.25\n",
        "\n",
        "# lista_ordenada é uma versão ordenada da lista y\n",
        "lista_ordenada = sorted(y)\n",
        "\n",
        "# Calcula a posição do quartil multiplicando o tamanho da lista nsomado a 1 pelo valor do percentil p.\n",
        "posicao = (n + 1) * p\n",
        "\n",
        "# verifica se a posição do quartil posicaoé um número inteiro.\n",
        "if posicao.is_integer():\n",
        "  q1_Y = lista_ordenada[int(posicao) - 1]\n",
        "  print('Q1 é ', q1_Y)\n",
        "else:\n",
        "  posicao_inferior = int(posicao) # A variável posicao_inferior é definida como a parte inteira de posicao\n",
        "  posicao_superior = posicao_inferior + 1 # A variável posicao_superioré definida como posicao_inferior + 1\n",
        "  valor_inferior = lista_ordenada[posicao_inferior - 1] # O valor valor_inferior é obtido da lista ordenada x no índice posicao_inferior - 1\n",
        "  valor_superior = lista_ordenada[posicao_superior - 1] # O valor valor_superioré obtido da lista ordenada xno índice posicao_superior - 1\n",
        "  q1_Y = (valor_inferior + valor_superior) / 2\n",
        "  print(y)\n",
        "  print('Q1 é ', q1_Y)"
      ],
      "metadata": {
        "colab": {
          "base_uri": "https://localhost:8080/"
        },
        "id": "NeJYl9wajXLT",
        "outputId": "edf127dd-ee53-40cd-d0f9-841e0c3b516f"
      },
      "execution_count": null,
      "outputs": [
        {
          "output_type": "stream",
          "name": "stdout",
          "text": [
            "Q1 é  3.0\n"
          ]
        }
      ]
    },
    {
      "cell_type": "markdown",
      "source": [
        "Q3 (terceiro quartil) de X;"
      ],
      "metadata": {
        "id": "giYMS2SFc1Vu"
      }
    },
    {
      "cell_type": "code",
      "source": [
        "# Defini uma variável n como o tamanho da lista y, ou seja, o número de elementos na lista\n",
        "n = len(x)\n",
        "\n",
        "# A variável prepresenta o percentil desejado, que no caso é 0,75, correspondente ao TERCEIRO quartil (Q1).\n",
        "p = 0.75\n",
        "\n",
        "# lista_ordenada é uma versão ordenada da lista y\n",
        "lista_ordenada = sorted(x)\n",
        "\n",
        "# Calcula a posição do quartil multiplicando o tamanho da lista nsomado a 1 pelo valor do percentil p.\n",
        "posicao = (n + 1) * p\n",
        "\n",
        "# verifica se a posição do quartil posicaoé um número inteiro.\n",
        "if posicao.is_integer():\n",
        "  q3 = lista_ordenada[int(posicao) - 1]\n",
        "  print('Q3 é ', q3)\n",
        "else:\n",
        "  posicao_inferior = int(posicao) # A variável posicao_inferior é definida como a parte inteira de posicao\n",
        "  posicao_superior = posicao_inferior + 1 # A variável posicao_superioré definida como posicao_inferior + 1\n",
        "  valor_inferior = lista_ordenada[posicao_inferior - 1] # O valor valor_inferior é obtido da lista ordenada x no índice posicao_inferior - 1\n",
        "  valor_superior = lista_ordenada[posicao_superior - 1] # O valor valor_superioré obtido da lista ordenada xno índice posicao_superior - 1\n",
        "  q3 = (valor_inferior + valor_superior) / 2\n",
        "  print(x)\n",
        "  print('Q3 é ', q3)"
      ],
      "metadata": {
        "colab": {
          "base_uri": "https://localhost:8080/"
        },
        "id": "-OFwZE3Qc4LH",
        "outputId": "18f6935b-9d0c-42e3-ad44-b22c501721d4"
      },
      "execution_count": null,
      "outputs": [
        {
          "output_type": "stream",
          "name": "stdout",
          "text": [
            "Q3 é  9.0\n"
          ]
        }
      ]
    },
    {
      "cell_type": "markdown",
      "source": [
        "Q3 (terceiro quartil) de Y;"
      ],
      "metadata": {
        "id": "t1udjOV-ln44"
      }
    },
    {
      "cell_type": "code",
      "source": [
        "# Defini uma variável n como o tamanho da lista y, ou seja, o número de elementos na lista\n",
        "n = len(y)\n",
        "\n",
        "# A variável prepresenta o percentil desejado, que no caso é 0,75, correspondente ao TERCEIRO quartil (Q1).\n",
        "p = 0.75\n",
        "\n",
        "# lista_ordenada é uma versão ordenada da lista y\n",
        "lista_ordenada = sorted(y)\n",
        "\n",
        "# Calcula a posição do quartil multiplicando o tamanho da lista nsomado a 1 pelo valor do percentil p.\n",
        "posicao = (n + 1) * p\n",
        "\n",
        "# verifica se a posição do quartil posicao é um número inteiro.\n",
        "if posicao.is_integer():\n",
        "  q3_Y = lista_ordenada[int(posicao) - 1]\n",
        "  print('Q3 é ', q3_Y)\n",
        "else:\n",
        "  posicao_inferior = int(posicao) # A variável posicao_inferior é definida como a parte inteira de posicao\n",
        "  posicao_superior = posicao_inferior + 1 # A variável posicao_superioré definida como posicao_inferior + 1\n",
        "  valor_inferior = lista_ordenada[posicao_inferior - 1] # O valor valor_inferior é obtido da lista ordenada x no índice posicao_inferior - 1\n",
        "  valor_superior = lista_ordenada[posicao_superior - 1] # O valor valor_superioré obtido da lista ordenada xno índice posicao_superior - 1\n",
        "  q3_Y = (valor_inferior + valor_superior) / 2\n",
        "  print(y)\n",
        "  print('Q3 é ', q3_Y)"
      ],
      "metadata": {
        "colab": {
          "base_uri": "https://localhost:8080/"
        },
        "id": "P_x5ydqhlez0",
        "outputId": "b398b3cf-b658-45d0-abbb-16b7cab579ba"
      },
      "execution_count": null,
      "outputs": [
        {
          "output_type": "stream",
          "name": "stdout",
          "text": [
            "Q3 é  9.0\n"
          ]
        }
      ]
    },
    {
      "cell_type": "markdown",
      "source": [
        "AIQ (amplitude interquartílica) de X;"
      ],
      "metadata": {
        "id": "4cBhswcac3F3"
      }
    },
    {
      "cell_type": "code",
      "source": [
        "aiq = q3 - q1\n",
        "print('A AIQ de X é ',aiq)"
      ],
      "metadata": {
        "colab": {
          "base_uri": "https://localhost:8080/"
        },
        "id": "2s7aW2Gic4uf",
        "outputId": "5aa62ee1-67d8-4906-ed3e-aea701e47034"
      },
      "execution_count": null,
      "outputs": [
        {
          "output_type": "stream",
          "name": "stdout",
          "text": [
            "A AIQ de X é  6.0\n"
          ]
        }
      ]
    },
    {
      "cell_type": "markdown",
      "source": [
        "AIQ (amplitude interquartílica) de Y;"
      ],
      "metadata": {
        "id": "_-vpZA09mjnS"
      }
    },
    {
      "cell_type": "code",
      "source": [
        "aiq_Y = q3_Y - q1_Y\n",
        "print('A AIQ de Y é ',aiq_Y)"
      ],
      "metadata": {
        "colab": {
          "base_uri": "https://localhost:8080/"
        },
        "id": "eqrWZmg3mmoj",
        "outputId": "86e31360-f13c-40f8-dd27-f9af2daef813"
      },
      "execution_count": null,
      "outputs": [
        {
          "output_type": "stream",
          "name": "stdout",
          "text": [
            "A AIQ de Y é  6.0\n"
          ]
        }
      ]
    },
    {
      "cell_type": "markdown",
      "source": [
        "Limite inferior (LI do boxplot) de X;"
      ],
      "metadata": {
        "id": "DGQRwjSAmu4G"
      }
    },
    {
      "cell_type": "code",
      "source": [
        "li = q1 - (1.5 * aiq)\n",
        "print('O Limite inferior de X é ',li)"
      ],
      "metadata": {
        "colab": {
          "base_uri": "https://localhost:8080/"
        },
        "id": "Nv-ewjHVm2PK",
        "outputId": "d7533775-c360-42cc-b6ca-608eadc8d53e"
      },
      "execution_count": null,
      "outputs": [
        {
          "output_type": "stream",
          "name": "stdout",
          "text": [
            "O Limite inferior de X é  -6.0\n"
          ]
        }
      ]
    },
    {
      "cell_type": "markdown",
      "source": [
        "Limite inferior (LI do boxplot) de Y;"
      ],
      "metadata": {
        "id": "lee6jnxKoED6"
      }
    },
    {
      "cell_type": "code",
      "source": [
        "li_Y = q1_Y - (1.5 * aiq_Y)\n",
        "print('O Limite inferior de Y é ',li_Y)"
      ],
      "metadata": {
        "colab": {
          "base_uri": "https://localhost:8080/"
        },
        "id": "Fuz6k8Y2oLtP",
        "outputId": "821a820f-9342-4e06-b718-a49d89c25e94"
      },
      "execution_count": null,
      "outputs": [
        {
          "output_type": "stream",
          "name": "stdout",
          "text": [
            "O Limite inferior de Y é  -6.0\n"
          ]
        }
      ]
    },
    {
      "cell_type": "markdown",
      "source": [
        "Limite superior (LS do boxplot) de X;"
      ],
      "metadata": {
        "id": "ErHnHfXmm0UR"
      }
    },
    {
      "cell_type": "code",
      "source": [
        "ls = q3 + (1.5 * aiq)\n",
        "print('O Limite superior de X é ',ls)"
      ],
      "metadata": {
        "colab": {
          "base_uri": "https://localhost:8080/"
        },
        "id": "Vx6Oua6uoaUA",
        "outputId": "8f81396e-041c-4367-f647-06da6d20d9a5"
      },
      "execution_count": null,
      "outputs": [
        {
          "output_type": "stream",
          "name": "stdout",
          "text": [
            "O Limite superior de X é  18.0\n"
          ]
        }
      ]
    },
    {
      "cell_type": "markdown",
      "source": [
        "Limite superior (LS do boxplot) de Y;"
      ],
      "metadata": {
        "id": "_c_UGdxIocFg"
      }
    },
    {
      "cell_type": "code",
      "source": [
        "ls_Y = q3_Y + (1.5 * aiq_Y)\n",
        "print('O Limite superior de Y é ',ls_Y)"
      ],
      "metadata": {
        "colab": {
          "base_uri": "https://localhost:8080/"
        },
        "id": "MFaTrysZodQx",
        "outputId": "3b871103-649c-4600-a87b-51b609f210b9"
      },
      "execution_count": null,
      "outputs": [
        {
          "output_type": "stream",
          "name": "stdout",
          "text": [
            "O Limite superior de Y é  18.0\n"
          ]
        }
      ]
    },
    {
      "cell_type": "markdown",
      "source": [
        "Identificação e classificação de possíveis outliers na amostra (lista X);\n"
      ],
      "metadata": {
        "id": "fLp_sJRyo6WI"
      }
    },
    {
      "cell_type": "code",
      "source": [
        "i = 0\n",
        "outlier = []\n",
        "\n",
        "# loop para percorrer todos os elementos da lista\n",
        "while i < len(x):\n",
        "\n",
        "#Verifica se o valor de x é maior que o limite superior OU se valor de x é menor que o limite inferior\n",
        "  if x[i] > ls or x[i] < li:\n",
        "    outlier.append(x[i])\n",
        "  else:\n",
        "    pass\n",
        "\n",
        " # Incremento do contador\n",
        "  i += 1\n",
        "\n",
        "#Apresentação de outliers\n",
        "print(f\"O(s) valor(es) {outlier} é um outlier\")\n"
      ],
      "metadata": {
        "colab": {
          "base_uri": "https://localhost:8080/"
        },
        "id": "RVKEL7O2Mmf0",
        "outputId": "426b76ac-5ade-4747-9e2a-e5a9f384e84a"
      },
      "execution_count": null,
      "outputs": [
        {
          "output_type": "stream",
          "name": "stdout",
          "text": [
            "O(s) valor(es) [1000.0, -100.0] é um outlier\n"
          ]
        }
      ]
    },
    {
      "cell_type": "markdown",
      "source": [
        "Identificação e classificação de possíveis outliers na amostra (lista Y);\n"
      ],
      "metadata": {
        "id": "6jDTKdQcMm3z"
      }
    },
    {
      "cell_type": "code",
      "source": [
        "i = 0\n",
        "outlier = []\n",
        "\n",
        "# loop para percorrer todos os elementos da lista\n",
        "while i < len(y):\n",
        "\n",
        "#Verifica se o valor de y é maior que o limite superior OU se valor de y é menor que o limite inferior\n",
        "  if y[i] > ls_Y or y[i] < li_Y:\n",
        "    outlier.append(y[i])\n",
        "  else:\n",
        "    pass\n",
        "\n",
        " # Incremento do contador\n",
        "  i += 1\n",
        "\n",
        "#Apresentação de outliers\n",
        "print(f\"O(s) valor(es) {outlier} é um outlier\")"
      ],
      "metadata": {
        "colab": {
          "base_uri": "https://localhost:8080/"
        },
        "id": "xLyly_hHMoXt",
        "outputId": "55bb54e6-6e19-4e14-a5e3-8e2841be4ad9"
      },
      "execution_count": null,
      "outputs": [
        {
          "output_type": "stream",
          "name": "stdout",
          "text": [
            "O(s) valor(es) [100.0] é um outlier\n"
          ]
        }
      ]
    },
    {
      "cell_type": "markdown",
      "source": [
        "Coeficiente de Correlação de Pearson ( r ) entre as listas X e Y;"
      ],
      "metadata": {
        "id": "LHA9MU1-Xd4U"
      }
    },
    {
      "cell_type": "code",
      "source": [
        "# Calculos para o coeficiente de Pearson\n",
        "\n",
        "# criação de listas vazias\n",
        "xquad = []\n",
        "yquad = []\n",
        "xyquad = []\n",
        "\n",
        "# loop para acrescentar na lista vazia os calculos\n",
        "for i in range(len(x)):\n",
        "  xquad.append(x[i] ** 2)\n",
        "  yquad.append(y[i] ** 2)\n",
        "  xyquad.append(x[i] * y[i])\n",
        "\n",
        "# Apresentação de valores\n",
        "print('Lista X', x)\n",
        "print('Lista Y', y)\n",
        "print('Soma de X', sum(x))\n",
        "print('Soma de Y', sum(y))\n",
        "print('Soma X^2', sum(xquad))\n",
        "print('Soma y^2', sum(yquad))\n",
        "print('Soma X * Y', sum(xyquad))"
      ],
      "metadata": {
        "colab": {
          "base_uri": "https://localhost:8080/"
        },
        "id": "zH-OrN-CXi8U",
        "outputId": "2379d745-d27c-464d-d690-45fc5053b477"
      },
      "execution_count": null,
      "outputs": [
        {
          "output_type": "stream",
          "name": "stdout",
          "text": [
            "Lista X [1000.0, 2.0, 3.0, 4.0, 5.0, -100.0, 6.0, 7.0, 8.0, 9.0, 10.0]\n",
            "Lista Y [1.0, 2.0, 3.0, 4.0, 5.0, 100.0, 6.0, 7.0, 8.0, 9.0, 10.0]\n",
            "Soma de X 954.0\n",
            "Soma de Y 155.0\n",
            "Soma X^2 1010384.0\n",
            "Soma y^2 10385.0\n",
            "Soma X * Y -8616.0\n"
          ]
        }
      ]
    },
    {
      "cell_type": "code",
      "source": [],
      "metadata": {
        "id": "kIus1UqUorZT"
      },
      "execution_count": null,
      "outputs": []
    },
    {
      "cell_type": "code",
      "source": [
        "# Coeficiente de Pearson\n",
        "\n",
        "#calculo do numerador\n",
        "numerador = len(x) * sum(xyquad) - sum(x) * sum(y)\n",
        "\n",
        "#calculo do denominador onde ** 0.5 é a raiz quadrada\n",
        "denominador = ((len(x) * sum(xquad) - sum(x) ** 2) * (len(x) * sum(yquad) - sum(y) ** 2)) ** 0.5\n",
        "\n",
        "#Apresentação do resultado\n",
        "print('Coeficiente de Pearson é ', round(numerador / denominador, 2))"
      ],
      "metadata": {
        "colab": {
          "base_uri": "https://localhost:8080/"
        },
        "id": "rvw3QGp7ecXA",
        "outputId": "34c54a32-eab1-4c04-e013-a2375f1fc732"
      },
      "execution_count": null,
      "outputs": [
        {
          "output_type": "stream",
          "name": "stdout",
          "text": [
            "Coeficiente de Pearson é  -0.25\n"
          ]
        }
      ]
    },
    {
      "cell_type": "markdown",
      "source": [
        "Coeficiente de determinação ( r ao quadrado);\n"
      ],
      "metadata": {
        "id": "5zy9tQTbwuf0"
      }
    },
    {
      "cell_type": "code",
      "source": [
        "calc = (numerador/denominador)**2\n",
        "print('O coeficiente de determinação é ', round(calc * 100, 2), '%' )"
      ],
      "metadata": {
        "colab": {
          "base_uri": "https://localhost:8080/"
        },
        "id": "6DmDscoGwjXW",
        "outputId": "735ea9cb-8167-410d-f9c0-16b2ed79bd2e"
      },
      "execution_count": null,
      "outputs": [
        {
          "output_type": "stream",
          "name": "stdout",
          "text": [
            "O coeficiente de determinação é  6.4 %\n"
          ]
        }
      ]
    },
    {
      "cell_type": "markdown",
      "source": [
        "Coeficiente b ou beta da equação de regressão linear simples para as duas variáveis escolhidas pelo usuário;"
      ],
      "metadata": {
        "id": "gfW_B27fx-fm"
      }
    },
    {
      "cell_type": "code",
      "source": [
        "num = sum(xyquad)\n",
        "den = sum(xquad) - len(x) * media ** 2\n",
        "beta = num/den\n",
        "print('O coeficiente de beta é ', beta)"
      ],
      "metadata": {
        "colab": {
          "base_uri": "https://localhost:8080/"
        },
        "id": "j1S28Vn-xNE8",
        "outputId": "d18843da-20bb-42e6-b7bc-cf4359ca6169"
      },
      "execution_count": null,
      "outputs": [
        {
          "output_type": "stream",
          "name": "stdout",
          "text": [
            "O coeficiente de beta é  -0.009288023999745985\n"
          ]
        }
      ]
    },
    {
      "cell_type": "markdown",
      "source": [
        "Coeficiente a ou alpha da equação de regressão linear simples para as duas variáveis escolhidas pelo usuário;"
      ],
      "metadata": {
        "id": "IMxcvreHxuyW"
      }
    },
    {
      "cell_type": "code",
      "source": [
        "# função para calcular o alpha. Formula = mediaY - beta * mediaX\n",
        "def alpha(x, y):\n",
        "    alpha = media1 - (media *  beta)\n",
        "    return alpha"
      ],
      "metadata": {
        "id": "o9wxYND9xyYP"
      },
      "execution_count": null,
      "outputs": []
    },
    {
      "cell_type": "code",
      "source": [
        "# Chamada da função\n",
        "print(alpha(x,y))"
      ],
      "metadata": {
        "colab": {
          "base_uri": "https://localhost:8080/"
        },
        "id": "pVpfLSe9z854",
        "outputId": "11f0ad27-34bd-40b5-f011-e074459e71b0"
      },
      "execution_count": null,
      "outputs": [
        {
          "output_type": "stream",
          "name": "stdout",
          "text": [
            "14.896434081432517\n"
          ]
        }
      ]
    }
  ]
}