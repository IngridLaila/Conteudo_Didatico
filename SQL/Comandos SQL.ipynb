{
  "nbformat": 4,
  "nbformat_minor": 0,
  "metadata": {
    "colab": {
      "provenance": [],
      "include_colab_link": true
    },
    "kernelspec": {
      "name": "python3",
      "display_name": "Python 3"
    },
    "language_info": {
      "name": "python"
    }
  },
  "cells": [
    {
      "cell_type": "markdown",
      "metadata": {
        "id": "view-in-github",
        "colab_type": "text"
      },
      "source": [
        "<a href=\"https://colab.research.google.com/github/IngridLaila/Conteudo_Didatico/blob/main/SQL/Comandos%20SQL.ipynb\" target=\"_parent\"><img src=\"https://colab.research.google.com/assets/colab-badge.svg\" alt=\"Open In Colab\"/></a>"
      ]
    },
    {
      "cell_type": "markdown",
      "source": [
        "## Nem todos os dias eu consigo, mas todos os dias eu tento\n",
        "Autor desconhecido"
      ],
      "metadata": {
        "id": "uEjqikZz-nkI"
      }
    },
    {
      "cell_type": "markdown",
      "source": [
        "## Criando e populando um novo banco de dados"
      ],
      "metadata": {
        "id": "br_OWlBw-wA_"
      }
    },
    {
      "cell_type": "code",
      "execution_count": null,
      "metadata": {
        "id": "5dHvFHh9-k4W"
      },
      "outputs": [],
      "source": [
        "'''\n",
        "Criar um banco de dados chamado loja\n",
        "\n",
        "1 - Acesse Cloud SQL\n",
        "2 - Crie uma instância com MySQL\n",
        "3 - Pelo card da instância criada acesse o Shell\n",
        "4 - Pelo shell conecte-se ao Mysql\n",
        "5 - create database loja;\n",
        "'''\n",
        "\n",
        "'''\n",
        "Agora vamos criar 6 tabelas e suas relações referentes a uma loja de utensílios\n",
        "domésticos\n",
        "tabelas: Cliente, Pedido, Produto, ItemPedido, Categoria, ProdutoCategoria\n",
        "\n",
        "create table Cliente (\n",
        "  id_cliente INT PRIMARY KEY,\n",
        "  nome VARCHAR (50),\n",
        "  endereco VARCHAR (100)\n",
        ");\n",
        "\n",
        "CREATE TABLE Pedido (\n",
        "    id_pedido INT PRIMARY KEY,\n",
        "    id_cliente INT,\n",
        "    descricao VARCHAR(100),\n",
        "    FOREIGN KEY (id_cliente) REFERENCES Cliente(id_cliente)\n",
        ");\n",
        "\n",
        "CREATE TABLE Produto (\n",
        "    id_produto INT PRIMARY KEY,\n",
        "    nome VARCHAR(50),\n",
        "    preco DECIMAL(10, 2)\n",
        ");\n",
        "\n",
        "CREATE TABLE ItemPedido (\n",
        "    id_item INT PRIMARY KEY,\n",
        "    id_pedido INT,\n",
        "    id_produto INT,\n",
        "    quantidade INT,\n",
        "    FOREIGN KEY (id_pedido) REFERENCES Pedido(id_pedido),\n",
        "    FOREIGN KEY (id_produto) REFERENCES Produto(id_produto)\n",
        ");\n",
        "\n",
        "CREATE TABLE Categoria (\n",
        "    id_categoria INT PRIMARY KEY,\n",
        "    nome VARCHAR(50)\n",
        ");\n",
        "\n",
        "CREATE TABLE ProdutoCategoria (\n",
        "    id_produto INT,\n",
        "    id_categoria INT,\n",
        "    PRIMARY KEY (id_produto, id_categoria),\n",
        "    FOREIGN KEY (id_produto) REFERENCES Produto(id_produto),\n",
        "    FOREIGN KEY (id_categoria) REFERENCES Categoria(id_categoria)\n",
        ");\n",
        "'''"
      ]
    },
    {
      "cell_type": "code",
      "source": [
        "'''\n",
        "Agora vamos popular as 6 tabelas com dados referentes a 20 transações comerciais\n",
        "dessa loja\n",
        "'''\n",
        "\n",
        "'''\n",
        "INSERT INTO Cliente (id_cliente, nome, endereco)\n",
        "VALUES\n",
        "    (1, 'Douglas', 'SP'),\n",
        "    (2, 'Daniela', 'SP'),\n",
        "    (3, 'Ester', 'MG'),\n",
        "    (4, 'Maria', 'BA'),\n",
        "    (5, 'Douglas', 'PE'),\n",
        "    (6, 'Raimundo', 'CE'),\n",
        "    (7, 'Jucimara', 'GO'),\n",
        "    (8, 'Marlene', 'AC'),\n",
        "    (9, 'Douglas', 'MA'),\n",
        "    (10, 'Daniela', 'PI'),\n",
        "    (11, 'Pedro', 'PB'),\n",
        "    (12, 'Joaquim', 'RS'),\n",
        "    (13, 'Julio', 'TO'),\n",
        "    (14, 'Carla', 'DF'),\n",
        "    (15, 'Bianca', 'PA'),\n",
        "    (16, 'Sandra', 'SP'),\n",
        "    (17, 'Celso', 'SP'),\n",
        "    (18, 'Silvana', 'BA'),\n",
        "    (19, 'Prof Raquel', 'BA'),\n",
        "    (20, 'Pedro', 'SP');\n",
        "'''\n",
        "'''\n",
        "INSERT INTO Pedido (id_pedido, id_cliente, descricao)\n",
        "VALUES\n",
        "    (1, '1', 'Caneca'),\n",
        "    (2, '1', 'Garfo'),\n",
        "    (3, '2', 'Faca'),\n",
        "    (4, '5', 'Copo'),\n",
        "    (5, '19', 'Copo'),\n",
        "    (6, '19', 'Colher'),\n",
        "    (7, '15', 'Colher'),\n",
        "    (8, '8', 'Colher'),\n",
        "    (9, '2', 'Copo'),\n",
        "    (10, '19', 'Colher'),\n",
        "    (11, '6', 'Copo'),\n",
        "    (12, '11', 'Colher'),\n",
        "    (13, '10', 'Garfo'),\n",
        "    (14, '4', 'Garfo'),\n",
        "    (15, '3', 'Colher'),\n",
        "    (16, '3', 'Garfo'),\n",
        "    (17, '2', 'Copo'),\n",
        "    (18, '17', 'Garfo'),\n",
        "    (19, '14', 'Caneca'),\n",
        "    (20, '13', 'Caneca');\n",
        "'''\n",
        "'''\n",
        "INSERT INTO Produto (id_produto, nome, preco)\n",
        "VALUES\n",
        "    (1, 'Caneca', 15.99),\n",
        "    (2, 'Garfo', 5.99),\n",
        "    (3, 'Faca', 7.99),\n",
        "    (4, 'Colher', 3.99),\n",
        "    (5, 'Copo', 10.99);\n",
        "'''\n",
        "\n",
        "'''\n",
        "INSERT INTO ItemPedido (id_item, id_pedido, id_produto, quantidade)\n",
        "VALUES\n",
        "    (1, 1, 1, 2),\n",
        "    (2, 2, 2, 5),\n",
        "    (3, 3, 3, 7),\n",
        "    (4, 4, 5, 10),\n",
        "    (5, 5, 5, 11),\n",
        "    (6, 6, 4, 30),\n",
        "    (7, 7, 4, 32),\n",
        "    (8, 8, 4, 44),\n",
        "    (9, 9, 5, 13),\n",
        "    (10, 10, 4, 33),\n",
        "    (11, 11, 5, 34),\n",
        "    (12, 12, 4, 32),\n",
        "    (13, 13, 2, 33),\n",
        "    (14, 14, 2, 34),\n",
        "    (15, 15, 4, 27),\n",
        "    (16, 16, 2, 18),\n",
        "    (17, 17, 5, 17),\n",
        "    (18, 18, 2, 33),\n",
        "    (19, 19, 1, 50),\n",
        "    (20, 20, 1, 47);\n",
        "'''\n",
        "'''\n",
        "INSERT INTO Categoria (id_categoria, nome)\n",
        "VALUES\n",
        "    (1, 'Comer'),\n",
        "    (2, 'Beber');\n",
        "\n",
        "INSERT INTO ProdutoCategoria (id_produto, id_categoria)\n",
        "VALUES\n",
        "    (1, 2),\n",
        "    (2, 1),\n",
        "    (3, 1),\n",
        "    (4, 1),\n",
        "    (5, 2);\n",
        "'''"
      ],
      "metadata": {
        "id": "DZzN4PxLX3M8"
      },
      "execution_count": null,
      "outputs": []
    },
    {
      "cell_type": "markdown",
      "source": [
        "## Agora vamos aprender os principais comandos de consulta para o Analista de Dados"
      ],
      "metadata": {
        "id": "Upf9I11kbth_"
      }
    },
    {
      "cell_type": "markdown",
      "source": [
        "## SELECT"
      ],
      "metadata": {
        "id": "IQMk2l12b4Xe"
      }
    },
    {
      "cell_type": "code",
      "source": [
        "'''\n",
        "colocar os selects * from para consulta de cada banco populado\n",
        "'''\n",
        "'''\n",
        "-- seta o banco de dados, indica que usaremos o banco de dados loja\n",
        "USE loja;\n",
        "\n",
        "SELECT * FROM Cliente;\n",
        "-- Lendo o comando: Seleciona todas as colunas da tabela: Cliente\n",
        "\n",
        "SELECT * FROM Pedido;\n",
        "-- Lendo o comando: Seleciona todas as colunas da tabela: Pedido\n",
        "\n",
        "SELECT * FROM Produto;\n",
        "-- Lendo o comando: Seleciona todas as colunas da tabela: Produto\n",
        "\n",
        "SELECT * FROM ItemPedido;\n",
        "-- Lendo o comando: Seleciona todas as colunas da tabela: ItemPedido\n",
        "\n",
        "SELECT * FROM Categoria;\n",
        "-- Lendo o comando: Seleciona todas as colunas da tabela: Categoria\n",
        "\n",
        "SELECT * FROM ProdutoCategoria;\n",
        "-- Lendo o comando: Seleciona todas as colunas da tabela: ProdutoCategoria\n",
        "\n",
        "-- Warning: Evite o uso do *, seja específico, adicione apenas as colunas que irá precisar na sua análise.\n",
        "-- Exemplo:\n",
        "SELECT id_produto, quantidade FROM ItemPedido;\n",
        "\n",
        "  Lendo o comando: Seleciona as colunas: id_produto e quantidade da tabela ItemPedido\n",
        "'''"
      ],
      "metadata": {
        "id": "1kFQynh9b-2J"
      },
      "execution_count": null,
      "outputs": []
    },
    {
      "cell_type": "markdown",
      "source": [
        "## WHERE — São as condições"
      ],
      "metadata": {
        "id": "yvEtVB4vfEqF"
      }
    },
    {
      "cell_type": "code",
      "source": [
        "'''\n",
        "SELECT id_produto, quantidade FROM ItemPedido\n",
        "WHERE quantidade >= 10;\n",
        "Lendo o comando: Seleciona as colunas: id_produto e quantidade da tabela: ItemPedido, quando a quantidade for maior ou igual a 10\n",
        "'''\n",
        "\n",
        "'''\n",
        "SELECT * FROM Cliente\n",
        "WHERE endereco = 'SP';\n",
        "\n",
        "  Lendo o comando: Seleciona todas as colunas, quando o endereço for igual a SP\n",
        "'''"
      ],
      "metadata": {
        "id": "JPNbti74fGKR"
      },
      "execution_count": null,
      "outputs": []
    },
    {
      "cell_type": "markdown",
      "source": [
        "## DISTINCT"
      ],
      "metadata": {
        "id": "MBBqikeggVem"
      }
    },
    {
      "cell_type": "code",
      "source": [
        "'''\n",
        "SELECT distinct id_produto, quantidade FROM ItemPedido\n",
        "WHERE quantidade >= 10;\n",
        "\n",
        "  Lendo o comando: Seleciona distintamente as colunas: id_produto e quantidade da tabela: ItemPedido, quando o quando a quantidade for maior ou igual a 10.\n",
        "'''\n",
        "\n",
        "'''\n",
        "SELECT distinct descricao FROM Pedido;\n",
        "\n",
        "  Lendo o comando: Seleciona distintamente as colunas: id_produto e quantidade da tabela: ItemPedido, quando o quando a quantidade for maior ou igual a 10.\n",
        "'''"
      ],
      "metadata": {
        "colab": {
          "base_uri": "https://localhost:8080/",
          "height": 52
        },
        "id": "MNZd2Rc8gcAk",
        "outputId": "f28425f0-7036-467e-a5f5-a899c13637f9"
      },
      "execution_count": null,
      "outputs": [
        {
          "output_type": "execute_result",
          "data": {
            "text/plain": [
              "'\\nSELECT distinct descricao FROM Pedido;\\n\\n  Lendo o comando: Seleciona distintamente as colunas: id_produto e quantidade da tabela: ItemPedido, quando o quando a quantidade for maior ou igual a 10.\\n'"
            ],
            "application/vnd.google.colaboratory.intrinsic+json": {
              "type": "string"
            }
          },
          "metadata": {},
          "execution_count": 1
        }
      ]
    },
    {
      "cell_type": "markdown",
      "source": [
        "## LIMIT — Retornar os n primeiros registros"
      ],
      "metadata": {
        "id": "YtyOgt4PhP2M"
      }
    },
    {
      "cell_type": "code",
      "source": [
        "'''\n",
        "SELECT * FROM Cliente\n",
        "LIMIT 5;\n",
        "  Lendo o comando: Seleciona todos os atributos da tabela Cliente e mostra\n",
        "  apenas os cinco primeiros registros\n",
        "'''"
      ],
      "metadata": {
        "id": "FaoaDqiJilnH"
      },
      "execution_count": null,
      "outputs": []
    },
    {
      "cell_type": "markdown",
      "source": [
        "## BOOLEANOS ( E | OU | NÃO ) Bom para combinar com WHERE"
      ],
      "metadata": {
        "id": "V-9svBaYjK-J"
      }
    },
    {
      "cell_type": "code",
      "source": [
        "'''\n",
        "\n",
        "-- Exemplo de AND\n",
        "SELECT nome, endereco\n",
        "FROM Cliente\n",
        "WHERE endereco = 'BA'\n",
        "AND id_cliente = 19;\n",
        "Lendo o comando:\n",
        "   Seleciona as colunas: nome e endereco da tabela: Clientes,\n",
        "   apenas os registros com endereco igual a 'BA' e id_cliente igual a 19\n",
        "\n",
        "\n",
        "-- Exemplo de OR\n",
        "SELECT nome, endereco\n",
        "FROM Cliente\n",
        "WHERE endereco = 'SP'\n",
        "OR endereco = 'MG';\n",
        "Lendo o comando:\n",
        "   Seleciona as colunas: nome e endereco da tabela: Clientes,\n",
        "   apenas os registros com endereco igual a 'SP' ou endereco a 'MG'\n",
        "\n",
        "-- Exemplo de NOT\n",
        "SELECT nome, endereco\n",
        "FROM Cliente\n",
        "WHERE NOT endereco = 'SP';\n",
        "Lendo o comando:\n",
        "   Seleciona as colunas: nome e endereco da tabela: Clientes,\n",
        "   apenas os registros com endereco não seja igual a 'SP'"
      ],
      "metadata": {
        "id": "d4asq9T2jMLq"
      },
      "execution_count": null,
      "outputs": []
    },
    {
      "cell_type": "markdown",
      "source": [
        "## Funções de agregação ( SUM , AVG , MAX , MIN , COUNT e ROUND )"
      ],
      "metadata": {
        "id": "ee0EGlWelZCY"
      }
    },
    {
      "cell_type": "code",
      "source": [
        "'''\n",
        "Somatório da quantidade de produtos vendidos\n",
        "\n",
        "SELECT SUM(quantidade) AS soma_qtde\n",
        "FROM ItemPedido;\n",
        "'''\n",
        "\n",
        "'''\n",
        "Média da quantidade de produtos vendidos\n",
        "\n",
        "SELECT AVG(quantidade) AS media_qtde,\n",
        "round(AVG(quantidade),2) AS media_qtde_arredondado\n",
        "FROM ItemPedido;\n",
        "'''\n",
        "\n",
        "\n",
        "'''\n",
        "Maior quantidade de produtos vendidos\n",
        "\n",
        "SELECT MAX(quantidade) AS maior_quantidade_venda\n",
        "  FROM ItemPedido;\n",
        "'''\n",
        "'''\n",
        "SELECT MIN(quantidade)  menor_quantidade_venda\n",
        "  FROM ItemPedido;\n",
        "'''\n",
        "\n",
        "'''\n",
        "Contagem de produtos (quantos produtos temos na nossa base?)\n",
        "\n",
        "SELECT count(id_produto) as qtd_produtos\n",
        "  FROM Produto;\n",
        "'''"
      ],
      "metadata": {
        "id": "1qo-Zc0Qlab9"
      },
      "execution_count": null,
      "outputs": []
    }
  ]
}