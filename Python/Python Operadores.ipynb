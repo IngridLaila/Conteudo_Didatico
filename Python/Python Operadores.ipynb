{
  "nbformat": 4,
  "nbformat_minor": 0,
  "metadata": {
    "colab": {
      "provenance": [],
      "include_colab_link": true
    },
    "kernelspec": {
      "name": "python3",
      "display_name": "Python 3"
    },
    "language_info": {
      "name": "python"
    }
  },
  "cells": [
    {
      "cell_type": "markdown",
      "metadata": {
        "id": "view-in-github",
        "colab_type": "text"
      },
      "source": [
        "<a href=\"https://colab.research.google.com/github/IngridLaila/Conteudo_Didatico/blob/main/Python/Python%20Operadores.ipynb\" target=\"_parent\"><img src=\"https://colab.research.google.com/assets/colab-badge.svg\" alt=\"Open In Colab\"/></a>"
      ]
    },
    {
      "cell_type": "markdown",
      "source": [
        "## Python Básico - Operadores"
      ],
      "metadata": {
        "id": "S_GrRCYmkAo1"
      }
    },
    {
      "cell_type": "code",
      "execution_count": null,
      "metadata": {
        "id": "sX0EViaufhx8"
      },
      "outputs": [],
      "source": [
        "# soma (+) Exemplo: some 3 com 2\n",
        "soma = 3 + 2\n",
        "\n",
        "# subtração (-) Exemplo: Subtraia 2 de 3\n",
        "sub = 3 - 2\n",
        "\n",
        "# multiplicação (*) Exemplo: Multiplique 3 por 2\n",
        "mult = 3 * 2\n",
        "\n",
        "# divisão (/) Exemplo: divida 3 por 2\n",
        "div = 3 / 2\n",
        "\n",
        "# parte inteira da divisão (//) Exemplo: encontre e guarde a parte inteira da divisão de 3 por 2\n",
        "idiv = 3 // 2\n",
        "\n",
        "# resto da divisão (%) Exemplo: encontre e guarde o resto da divisão de 3 por 2\n",
        "rdiv = 3 % 2\n",
        "\n",
        "# potenciação (**) Exemplo: eleve 3 a 2\n",
        "pot = 3 ** 2\n",
        "\n",
        "print(soma)\n",
        "print(sub)\n",
        "print(mult)\n",
        "print(div)\n",
        "print(idiv)\n",
        "print(rdiv)\n",
        "print(pot)"
      ]
    },
    {
      "cell_type": "code",
      "source": [
        "# Melhorando a visualização dos prints f-string\n",
        "\n",
        "'''Quando houver necessidade de combinar no mesmo print texto e valores\n",
        "de variáveis o f-string é uma excelente alternativa'''\n",
        "\n",
        "print(f'O resultado da soma de 3 com 2 é: {soma} ')\n",
        "print(f'O resultado da subtração de 3 com 2 é: {sub} ')\n",
        "print(f'O resultado da multiplicação de 3 por 2 é: {mult} ')\n",
        "print(f'O resultado da divisão de 3 por 2 é: {div} ')\n",
        "print(f'A parte inteira da divisão de 3 por 2 é: {idiv} ')\n",
        "print(f'O resto da divisão de 3 por 2 é: {rdiv} ')\n",
        "print(f'O resultado da potenciação de 3 elevado 2 é: {pot} ')"
      ],
      "metadata": {
        "id": "BtfCoO0PqnXi"
      },
      "execution_count": null,
      "outputs": []
    },
    {
      "cell_type": "markdown",
      "source": [
        "Operadores de comparação (booleanos)"
      ],
      "metadata": {
        "id": "0wswh9dqs77w"
      }
    },
    {
      "cell_type": "code",
      "source": [
        "# (==) verifica se dois valores são iguais (retorna True ou False)\n",
        "# Exemplo compare se 3 é igual a 3.0\n",
        "a = 3 # atribuição do valor 3 (tipo int) para a variável a\n",
        "b = 3.0 # atribuição do valor 3.0 (tipo float) para a variável b\n",
        "teste1 = a == b # Fazendo o teste de igualdade de a com b e guradando na variável teste 1\n",
        "print(teste1) # imprimindo o valor da variável teste1\n",
        "teste2 = 'douglas' == 'Douglas' # comparando duas strings com uma pequena diferença entre elas\n",
        "print(teste2) # imprimindo o valor da variável teste2\n",
        "\n",
        "# (!=) verifica se dois valores são diferentes (retorna True ou False)\n",
        "# Exemplo: compare se 3 (variável a) é diferente a 3.0 (variável b)\n",
        "teste3 = a != b\n",
        "print(teste3)\n",
        "\n",
        "# (>) verifica se um valor é maior que o outro (retorna True ou False)\n",
        "# Exemplo: compare se 3 é maior que 2\n",
        "teste4 = 3 > 2\n",
        "print(teste4)\n",
        "\n",
        "# (>=) verifica se um valor é maior ou igual ao outro(Retorna True ou False)\n",
        "#Exemplo: compare se 3 é maior ou igual a 3\n",
        "teste5 = 3 >= 3\n",
        "print(teste5)\n",
        "\n",
        "# (<) verifica se um número é menor que outro (retorna True ou false)\n",
        "# Exemplo: compare se 2 é menor que 2\n",
        "teste6 = 2 < 2\n",
        "print(teste6)\n",
        "\n",
        "# (<=) verifica se um valor é menor ou igual ao outro (retorna True ou False)\n",
        "# Exemplo: compare se 2 é menor ou igual a 2\n",
        "teste7 = 2 <= 2\n",
        "print(teste7)"
      ],
      "metadata": {
        "id": "fs8BIFsHs7fm"
      },
      "execution_count": null,
      "outputs": []
    },
    {
      "cell_type": "markdown",
      "source": [
        "Operadores de atribuição"
      ],
      "metadata": {
        "id": "hzdK3GOx7cmc"
      }
    },
    {
      "cell_type": "code",
      "source": [
        "# Atribuição direta (=) atribui ao lado esquerdo do sinal um valor que está ao lado direito do sinal\n",
        "nome = 'douglas'\n",
        "peso_kg = 78\n",
        "altura_m = 1.85\n",
        "\n",
        "# Atribuição de soma (+=), equivale a x = x + y (equivale a uma variável x que já existe recebendo ela mesma + outro valor)\n",
        "# Exemplo: crie uma variável t que receba o número inteiro 3, e depois some 1 para essa variável\n",
        "t = 3\n",
        "t += 1\n",
        "print(f'O resultado de t + 1 é: {t}')\n",
        "\n",
        "# Atribuição de subtração (-=) equivale a x = x - y (equivale a uma variável x que já existe recebendo ela mesma - outro valor)\n",
        "# Exemplo: crie uma variável z que receba o número inteiro 5, e depois diminua 2 para essa variável\n",
        "z = 5\n",
        "z -= 2\n",
        "print(f'O resultado de z - 2 é: {z}')\n",
        "\n",
        "# atribuição de multiplicação (*=) equivale a x = x * y\n",
        "# Exemplo: crie uma variável j que receba o número 5, e depois multplique por 2\n",
        "j = 5\n",
        "j *= 2\n",
        "print(f'O resultado de j * 2 é: {j}')\n",
        "\n",
        "# atribuição de divisão (/=) equivale a x = x / y\n",
        "# exemplo: crie uma variável w que recebe o número 7, e depois divida por 2\n",
        "w = 7\n",
        "w /= 2\n",
        "print(f'O resultado de w / 2 é: {w}')\n",
        "\n",
        "# atribuição da parte inteira da divisão (//=) equivale a x = x // y\n",
        "# Exemplo: crie uma variável k que recebe o número 7, e depois receba a parte inteira da divisão por 2\n",
        "k = 7\n",
        "k //= 2\n",
        "print(f'O resultado de k // 2 é: {k}')\n",
        "\n",
        "# atribuição do resto da divisão (%=) equivale a x = x % y\n",
        "# exemplo: crie uma variável b que receba o número 7, e depois receba o resto da divisão dela por 2\n",
        "b = 7\n",
        "b %= 2\n",
        "print(f'O resto  da divisão de b por 2 é: {b}')\n",
        "\n",
        "# atribuição de potenciação (**=) equivale a x = x ** y\n",
        "# Exemplo crie uma variável casamento que receba o valor 6 e depois receba o quadrado dela\n",
        "casamento = 6\n",
        "casamento **= 2\n",
        "print(f'O professor douglas casará: {casamento} vezes nesta vida')"
      ],
      "metadata": {
        "colab": {
          "base_uri": "https://localhost:8080/"
        },
        "id": "Ac2X3xbw7fXT",
        "outputId": "644953fd-b015-49d7-fce2-ad5628a25eed"
      },
      "execution_count": null,
      "outputs": [
        {
          "output_type": "stream",
          "name": "stdout",
          "text": [
            "O resultado de t + 1 é: 4\n",
            "O resultado de z - 2 é: 3\n",
            "O resultado de j * 2 é: 10\n",
            "O resultado de w / 2 é: 3.5\n",
            "O resultado de k // 2 é: 3\n",
            "O resto  da divisão de b por 2 é: 1\n",
            "O professor douglas casará: 36 vezes nesta vida\n"
          ]
        }
      ]
    },
    {
      "cell_type": "markdown",
      "source": [
        "Operadores lógicos"
      ],
      "metadata": {
        "id": "mU0hUTv-dXcq"
      }
    },
    {
      "cell_type": "code",
      "source": [
        "# (and) Retorna verdadeiro somente se todas as condições de uma comparação forem satisfeitas\n",
        "# Exemplo:\n",
        "teste8 = 3 >= 2 and 3 != 2 and 3 < 4\n",
        "print(f'3 >= 2 and 3 != 2 and 3 < 4 é: {teste8}')\n",
        "# (&) Retorna verdadeiro somente se todas as condições de uma comparação forem satisfeitas\n",
        "# Exemplo:\n",
        "teste9 = (3 <= 2) & (3 != 2) & (3 < 4) #bitwise\n",
        "#           F           V         V\n",
        "print(f'(3 <= 2) & (3 != 2) & (3 < 4) é: {teste9}')\n",
        "\n",
        "# (or) Retorna verdadeiro se pelo menos um dos elementos for verdadeiro\n",
        "# Exemplo:\n",
        "teste10 = 3 >= 2 or 3 == 2 or 3 > 4\n",
        "teste15 = (3 >= 2) | (3 == 2) | (3 > 4)\n",
        "print(f'3 >= 2 or 3 == 2 or 3 > 43 >= 2 or 3 == 2 or 3 > 4 é: {teste10}')\n",
        "\n",
        "# (not) Inverte verdadeiro com Falso\n",
        "# Exemplo:\n",
        "teste11 = not(teste10)\n",
        "print(f'not(3 >= 2 or 3 == 2 or 3 > 4) é: {teste11}')\n",
        "teste12 = not(teste9)\n",
        "print(f'not((3 <= 2) & (3 != 2) & (3 < 4)) é: {teste12}')\n",
        "teste13 = ((not(3 <= 2))) & (not(3 == 2)) & (3 < 4) # invertendo o resultado da primeira sentença e da segunda sentença\n",
        "#               V                 V            V\n",
        "print(f'((not(3 <= 2))) & (not(3 == 2)) & (3 < 4) é: {teste13}')\n",
        "teste14 = not((3 >= 2) & (3 != 2) & (3 < 4)) # invertendo o resultado da comparação de todas as sentenças\n",
        "#                 V         V           V\n",
        "print(f'not((3 >= 2) & (3 != 2) & (3 < 4)) é: {teste14}')\n",
        "print(teste15)"
      ],
      "metadata": {
        "colab": {
          "base_uri": "https://localhost:8080/"
        },
        "id": "HOiaKIEAdgcv",
        "outputId": "8fdbab7a-755d-4421-f811-8565a587c873"
      },
      "execution_count": null,
      "outputs": [
        {
          "output_type": "stream",
          "name": "stdout",
          "text": [
            "3 >= 2 and 3 != 2 and 3 < 4 é: True\n",
            "(3 <= 2) & (3 != 2) & (3 < 4) é: False\n",
            "3 >= 2 or 3 == 2 or 3 > 43 >= 2 or 3 == 2 or 3 > 4 é: True\n",
            "not(3 >= 2 or 3 == 2 or 3 > 4) é: False\n",
            "not((3 <= 2) & (3 != 2) & (3 < 4)) é: True\n",
            "((not(3 <= 2))) & (not(3 == 2)) & (3 < 4) é: True\n",
            "not((3 >= 2) & (3 != 2) & (3 < 4)) é: False\n",
            "True\n"
          ]
        }
      ]
    },
    {
      "cell_type": "markdown",
      "source": [
        "Operadores de identidade (is, is not)"
      ],
      "metadata": {
        "id": "XvOuSvFNstel"
      }
    },
    {
      "cell_type": "code",
      "source": [
        "# (is) compara se um objeto é igual ao outro em relação ao valor e o tipo\n",
        "h = 3\n",
        "p = 3\n",
        "teste16 = p == h\n",
        "print(f'p == h é: {teste16}')\n",
        "teste17 = p is h\n",
        "print(f'p is h é: {teste17}')\n",
        "m = 3\n",
        "n = 3.0\n",
        "teste18 = m == n\n",
        "print(f'm == n é: {teste18}')\n",
        "teste19 = m is n\n",
        "print(f'm is n é: {teste19}')\n",
        "print(type(m))\n",
        "print(type(n))\n",
        "\n",
        "# (is not) compara se um objeto é diferente do outro em relação ao valor e o tipo\n",
        "x = 3\n",
        "y = 4\n",
        "teste20 = x != y\n",
        "print(f'x != y é: {teste20}')\n",
        "teste21 = x is not y\n",
        "print(f'x is not y é: {teste21}')\n",
        "o = 3\n",
        "s = 3.0\n",
        "teste22 = o != s\n",
        "print(f'o != s é: {teste22}')\n",
        "teste23 = o is not s\n",
        "print(f'o is not s é: {teste23}')\n",
        "print(type(o))\n",
        "print(type(s))"
      ],
      "metadata": {
        "id": "A_xXgyS2szZe"
      },
      "execution_count": null,
      "outputs": []
    },
    {
      "cell_type": "markdown",
      "source": [
        "Operadores de associação\n"
      ],
      "metadata": {
        "id": "03INK9RcxB1a"
      }
    },
    {
      "cell_type": "code",
      "source": [
        "# (in) Retorna verdadeiro se um caracter ou sequencia de caracteres for encontrado dentro de uma string\n",
        "# Exemplo:\n",
        "nome = 'daniela'\n",
        "teste24 = 'dani' in nome\n",
        "print(f'daniela contém dani: {teste24}')\n",
        "# (not in) Retorna verdadeiro se um caracter ou sequencia de caracteres NÃO for encontrado dentro de uma string\n",
        "teste25 = 'Dani' not in nome\n",
        "print(f'daniela não contém Dani: {teste25}')"
      ],
      "metadata": {
        "colab": {
          "base_uri": "https://localhost:8080/"
        },
        "id": "1HcjUsY8xLEL",
        "outputId": "40b5646f-062a-4f71-debb-4f36b1d266b8"
      },
      "execution_count": null,
      "outputs": [
        {
          "output_type": "stream",
          "name": "stdout",
          "text": [
            "daniela contém dani: True\n",
            "daniela não contém Dani: True\n"
          ]
        }
      ]
    },
    {
      "cell_type": "markdown",
      "source": [
        "Coletando informações do usuário"
      ],
      "metadata": {
        "id": "Pya-Vahdz66q"
      }
    },
    {
      "cell_type": "code",
      "source": [
        "nome = input('Informe seu nome ')\n",
        "print(f'O nome digitado é: {nome}')\n",
        "peso = int(input('Informe seu peso em kg inteiros '))\n",
        "print(f'{nome} tem : {peso}kg')\n",
        "altura = float(input('Informe sua altura em metros '))\n",
        "print(f'{nome} tem {peso} kg e {altura} metros de altura')\n",
        "imc = peso / altura**2\n",
        "print(f'{nome}, seu imc é: {imc:.1f}')"
      ],
      "metadata": {
        "colab": {
          "base_uri": "https://localhost:8080/",
          "height": 380
        },
        "id": "9IlccBuF0DhI",
        "outputId": "92e2b993-bd63-4d32-d61f-45c23eb0742c"
      },
      "execution_count": null,
      "outputs": [
        {
          "output_type": "error",
          "ename": "KeyboardInterrupt",
          "evalue": "ignored",
          "traceback": [
            "\u001b[0;31m---------------------------------------------------------------------------\u001b[0m",
            "\u001b[0;31mKeyboardInterrupt\u001b[0m                         Traceback (most recent call last)",
            "\u001b[0;32m<ipython-input-1-2c9380fd1cf8>\u001b[0m in \u001b[0;36m<cell line: 1>\u001b[0;34m()\u001b[0m\n\u001b[0;32m----> 1\u001b[0;31m \u001b[0mnome\u001b[0m \u001b[0;34m=\u001b[0m \u001b[0minput\u001b[0m\u001b[0;34m(\u001b[0m\u001b[0;34m'Informe seu nome '\u001b[0m\u001b[0;34m)\u001b[0m\u001b[0;34m\u001b[0m\u001b[0;34m\u001b[0m\u001b[0m\n\u001b[0m\u001b[1;32m      2\u001b[0m \u001b[0mprint\u001b[0m\u001b[0;34m(\u001b[0m\u001b[0;34mf'O nome digitado é: {nome}'\u001b[0m\u001b[0;34m)\u001b[0m\u001b[0;34m\u001b[0m\u001b[0;34m\u001b[0m\u001b[0m\n\u001b[1;32m      3\u001b[0m \u001b[0mpeso\u001b[0m \u001b[0;34m=\u001b[0m \u001b[0mint\u001b[0m\u001b[0;34m(\u001b[0m\u001b[0minput\u001b[0m\u001b[0;34m(\u001b[0m\u001b[0;34m'Informe seu peso em kg inteiros '\u001b[0m\u001b[0;34m)\u001b[0m\u001b[0;34m)\u001b[0m\u001b[0;34m\u001b[0m\u001b[0;34m\u001b[0m\u001b[0m\n\u001b[1;32m      4\u001b[0m \u001b[0mprint\u001b[0m\u001b[0;34m(\u001b[0m\u001b[0;34mf'{nome} tem : {peso}kg'\u001b[0m\u001b[0;34m)\u001b[0m\u001b[0;34m\u001b[0m\u001b[0;34m\u001b[0m\u001b[0m\n\u001b[1;32m      5\u001b[0m \u001b[0maltura\u001b[0m \u001b[0;34m=\u001b[0m \u001b[0mfloat\u001b[0m\u001b[0;34m(\u001b[0m\u001b[0minput\u001b[0m\u001b[0;34m(\u001b[0m\u001b[0;34m'Informe sua altura em metros '\u001b[0m\u001b[0;34m)\u001b[0m\u001b[0;34m)\u001b[0m\u001b[0;34m\u001b[0m\u001b[0;34m\u001b[0m\u001b[0m\n",
            "\u001b[0;32m/usr/local/lib/python3.10/dist-packages/ipykernel/kernelbase.py\u001b[0m in \u001b[0;36mraw_input\u001b[0;34m(self, prompt)\u001b[0m\n\u001b[1;32m    849\u001b[0m                 \u001b[0;34m\"raw_input was called, but this frontend does not support input requests.\"\u001b[0m\u001b[0;34m\u001b[0m\u001b[0;34m\u001b[0m\u001b[0m\n\u001b[1;32m    850\u001b[0m             )\n\u001b[0;32m--> 851\u001b[0;31m         return self._input_request(str(prompt),\n\u001b[0m\u001b[1;32m    852\u001b[0m             \u001b[0mself\u001b[0m\u001b[0;34m.\u001b[0m\u001b[0m_parent_ident\u001b[0m\u001b[0;34m,\u001b[0m\u001b[0;34m\u001b[0m\u001b[0;34m\u001b[0m\u001b[0m\n\u001b[1;32m    853\u001b[0m             \u001b[0mself\u001b[0m\u001b[0;34m.\u001b[0m\u001b[0m_parent_header\u001b[0m\u001b[0;34m,\u001b[0m\u001b[0;34m\u001b[0m\u001b[0;34m\u001b[0m\u001b[0m\n",
            "\u001b[0;32m/usr/local/lib/python3.10/dist-packages/ipykernel/kernelbase.py\u001b[0m in \u001b[0;36m_input_request\u001b[0;34m(self, prompt, ident, parent, password)\u001b[0m\n\u001b[1;32m    893\u001b[0m             \u001b[0;32mexcept\u001b[0m \u001b[0mKeyboardInterrupt\u001b[0m\u001b[0;34m:\u001b[0m\u001b[0;34m\u001b[0m\u001b[0;34m\u001b[0m\u001b[0m\n\u001b[1;32m    894\u001b[0m                 \u001b[0;31m# re-raise KeyboardInterrupt, to truncate traceback\u001b[0m\u001b[0;34m\u001b[0m\u001b[0;34m\u001b[0m\u001b[0m\n\u001b[0;32m--> 895\u001b[0;31m                 \u001b[0;32mraise\u001b[0m \u001b[0mKeyboardInterrupt\u001b[0m\u001b[0;34m(\u001b[0m\u001b[0;34m\"Interrupted by user\"\u001b[0m\u001b[0;34m)\u001b[0m \u001b[0;32mfrom\u001b[0m \u001b[0;32mNone\u001b[0m\u001b[0;34m\u001b[0m\u001b[0;34m\u001b[0m\u001b[0m\n\u001b[0m\u001b[1;32m    896\u001b[0m             \u001b[0;32mexcept\u001b[0m \u001b[0mException\u001b[0m \u001b[0;32mas\u001b[0m \u001b[0me\u001b[0m\u001b[0;34m:\u001b[0m\u001b[0;34m\u001b[0m\u001b[0;34m\u001b[0m\u001b[0m\n\u001b[1;32m    897\u001b[0m                 \u001b[0mself\u001b[0m\u001b[0;34m.\u001b[0m\u001b[0mlog\u001b[0m\u001b[0;34m.\u001b[0m\u001b[0mwarning\u001b[0m\u001b[0;34m(\u001b[0m\u001b[0;34m\"Invalid Message:\"\u001b[0m\u001b[0;34m,\u001b[0m \u001b[0mexc_info\u001b[0m\u001b[0;34m=\u001b[0m\u001b[0;32mTrue\u001b[0m\u001b[0;34m)\u001b[0m\u001b[0;34m\u001b[0m\u001b[0;34m\u001b[0m\u001b[0m\n",
            "\u001b[0;31mKeyboardInterrupt\u001b[0m: Interrupted by user"
          ]
        }
      ]
    },
    {
      "cell_type": "markdown",
      "source": [
        "## Python Básico - Strings\n"
      ],
      "metadata": {
        "id": "LV-oasDB7k4_"
      }
    },
    {
      "cell_type": "code",
      "source": [
        "# 0    1   2   3   4   5  6  7  8  9 10 11 12 13 (índice)\n",
        "# -14 -13 -12 -11 -10 -9 -8 -7 -6 -5 -4 -3 -2 -1 (índice reverso)\n",
        "# 1º 2º 3º 4º 5º 6º 7º 8º 9º 10º 11º 12º 13º 14º (ordinal)\n",
        "# d  o  u  g  @  g  m  a  i   l   .   c   o   m\n",
        "email = 'doug@gmail.com'\n",
        "# encontrando um caracter pelo índice\n",
        "# Exemplo: qual é o quinto caracter dessa string?\n",
        "print(f'O quinto caracter dessa string é: {email[4]}')\n",
        "# Exemplo: qual é o último caracter dessa string?\n",
        "print(f'O último caracter dessa string é: {email[13]}')\n",
        "# Exemplo: Quais são os caracteres que vem depois do 2º caracter (excluindo o 2º)\n",
        "print(f'A sequência caracteres dessa string após o segundo é: {email[2:]}')\n",
        "# Exemplo: Quais são todos os caracteres dessa string?\n",
        "print(f'A sequência todos os caracteres dessa string é: {email[:]}')\n",
        "# Exemplo: buscar e imprimir todos os caracteres até o caracter de índice 4 (todos os caracteres antes do @ até o @ incluindo o @)\n",
        "print(f'A sequência caracteres dessa string até o índice 4 é: {email[:5]}')\n",
        "# Exemplo como acessar o último caracter da lista sem contar o tamaho dela (sem usar a função len())?\n",
        "print(f'O último caracter dessa string é: {email[-1]}')"
      ],
      "metadata": {
        "colab": {
          "base_uri": "https://localhost:8080/"
        },
        "id": "_QEtADu67siD",
        "outputId": "e2792bf5-c2bd-4299-83d2-c61c0c3d9ffd"
      },
      "execution_count": null,
      "outputs": [
        {
          "output_type": "stream",
          "name": "stdout",
          "text": [
            "O quinto caracter dessa string é: @\n",
            "O último caracter dessa string é: m\n",
            "A sequência caracteres dessa string após o segundo é: ug@gmail.com\n",
            "A sequência todos os caracteres dessa string é: doug@gmail.com\n",
            "A sequência caracteres dessa string até o índice 4 é: doug@\n",
            "O último caracter dessa string é: m\n"
          ]
        }
      ]
    },
    {
      "cell_type": "markdown",
      "source": [
        "Métodos para Strings"
      ],
      "metadata": {
        "id": "Ca9j4BQkJSSo"
      }
    },
    {
      "cell_type": "code",
      "source": [
        "# Sinal de (+) para concatenar strings\n",
        "nome = 'Douglas'\n",
        "sobre = 'Ribeiro'\n",
        "print(nome +\" \"+ sobre)\n",
        "# Converter um número em string\n",
        "cpf = 12345678910\n",
        "cpf = str(cpf)\n",
        "print(type(cpf))\n",
        "# (in) Retorna verdadeiro se um caracter ou sequencia de caracteres for encontrado dentro de uma string\n",
        "# Exemplo:\n",
        "nomen = 'daniela'\n",
        "testen = 'dani' in nomen\n",
        "print(f'daniela contém dani: {testen}')\n",
        "# (not in) Retorna verdadeiro se um caracter ou sequencia de caracteres NÃO for encontrado dentro de uma string\n",
        "testen = 'Dani' not in nomen\n",
        "print(f'daniela não contém Dani: {testen}')\n",
        "# (len)Contar o número de caracteres de uma string\n",
        "qtde = len(nome)\n",
        "print(f'{nome} tem {qtde} caracteres')"
      ],
      "metadata": {
        "colab": {
          "base_uri": "https://localhost:8080/"
        },
        "id": "lAKeni1OJnUS",
        "outputId": "0a200bc1-000c-46fa-ae6b-6177268a4908"
      },
      "execution_count": null,
      "outputs": [
        {
          "output_type": "stream",
          "name": "stdout",
          "text": [
            "Douglas Ribeiro\n",
            "<class 'str'>\n",
            "daniela contém dani: True\n",
            "daniela não contém Dani: True\n",
            "Douglas tem 7 caracteres\n"
          ]
        }
      ]
    },
    {
      "cell_type": "markdown",
      "source": [
        "Métodos específicos para strings"
      ],
      "metadata": {
        "id": "OJQYpfT6Morw"
      }
    },
    {
      "cell_type": "code",
      "source": [
        "# Método para deixar a primeira letra de uma string maiúscula\n",
        "nomem = 'douglas'\n",
        "print(nomem)\n",
        "nomem = nomem.capitalize()\n",
        "print(nomem)\n",
        "nomem = nomem.casefold()\n",
        "print(nomem)"
      ],
      "metadata": {
        "colab": {
          "base_uri": "https://localhost:8080/"
        },
        "id": "oFyQ2DJSMsC-",
        "outputId": "2b636cdc-3b82-4bf8-8568-4b503c282f95"
      },
      "execution_count": null,
      "outputs": [
        {
          "output_type": "stream",
          "name": "stdout",
          "text": [
            "douglas\n",
            "Douglas\n",
            "douglas\n"
          ]
        }
      ]
    },
    {
      "cell_type": "code",
      "source": [
        "# (count) Contar quantas vezes um caracter aparece em uma string\n",
        "material = 'paralelepípedo'\n",
        "qtde_p = material.count('p')\n",
        "print(f'{material} tem {qtde_p} Ps')"
      ],
      "metadata": {
        "colab": {
          "base_uri": "https://localhost:8080/"
        },
        "id": "vcYdV2pBRAxa",
        "outputId": "922a91d1-e675-4b46-c0c8-c95c05555c6c"
      },
      "execution_count": null,
      "outputs": [
        {
          "output_type": "stream",
          "name": "stdout",
          "text": [
            "paralelepípedo tem 3 Ps\n"
          ]
        }
      ]
    },
    {
      "cell_type": "code",
      "source": [
        "# (endswith) Verifica se uma string termina com um caracter ou sequencia de caracteres\n",
        "email = 'doug@gmail.com'\n",
        "teste_end = email.endswith('gmail.com')\n",
        "print(teste_end)"
      ],
      "metadata": {
        "colab": {
          "base_uri": "https://localhost:8080/"
        },
        "id": "mlQBhgPwTD0i",
        "outputId": "bf0a9f10-94db-4649-8b88-1feb6d342c77"
      },
      "execution_count": null,
      "outputs": [
        {
          "output_type": "stream",
          "name": "stdout",
          "text": [
            "True\n"
          ]
        }
      ]
    },
    {
      "cell_type": "code",
      "source": [
        "# (startswith) Verifica se uma string começa com um caracter ou sequencia de caracteres\n",
        "email = 'doug@gmail.com'\n",
        "teste_beg = email.startswith('d')\n",
        "print(teste_beg)"
      ],
      "metadata": {
        "colab": {
          "base_uri": "https://localhost:8080/"
        },
        "id": "oi24JI9GT_Bt",
        "outputId": "ddfa111d-3732-409f-ae91-85565dd0dcd0"
      },
      "execution_count": null,
      "outputs": [
        {
          "output_type": "stream",
          "name": "stdout",
          "text": [
            "True\n"
          ]
        }
      ]
    },
    {
      "cell_type": "code",
      "source": [
        "# (isnumeric) Verifica se uma string é formada por números\n",
        "rg = '123456789'\n",
        "teste_rg = rg.isnumeric()\n",
        "print(teste_rg)"
      ],
      "metadata": {
        "colab": {
          "base_uri": "https://localhost:8080/"
        },
        "id": "FYLr0zIJU6tP",
        "outputId": "431ca2d9-1718-4331-d337-8715535a8e84"
      },
      "execution_count": null,
      "outputs": [
        {
          "output_type": "stream",
          "name": "stdout",
          "text": [
            "True\n"
          ]
        }
      ]
    },
    {
      "cell_type": "code",
      "source": [
        "# (isalpha) Verifica se uma string é formada por letras\n",
        "rg2 = 'doug'\n",
        "teste_rg2 = rg2.isalpha()\n",
        "print(teste_rg2)"
      ],
      "metadata": {
        "colab": {
          "base_uri": "https://localhost:8080/"
        },
        "id": "i_zHBS1EVpYb",
        "outputId": "8101eeb4-e923-4f1e-9ccd-132203e566cd"
      },
      "execution_count": null,
      "outputs": [
        {
          "output_type": "stream",
          "name": "stdout",
          "text": [
            "True\n"
          ]
        }
      ]
    },
    {
      "cell_type": "code",
      "source": [
        "# (isalnum) Verifica se uma string é formada por letras ou números\n",
        "rg3 = 'D'\n",
        "teste_rg3 = rg3.isalnum()\n",
        "print(teste_rg3)"
      ],
      "metadata": {
        "colab": {
          "base_uri": "https://localhost:8080/"
        },
        "id": "LxzSKPDFWBxm",
        "outputId": "f07edf6f-99ad-4ead-d1be-7b53b154ad76"
      },
      "execution_count": null,
      "outputs": [
        {
          "output_type": "stream",
          "name": "stdout",
          "text": [
            "True\n"
          ]
        }
      ]
    },
    {
      "cell_type": "code",
      "source": [
        "# (split) Separa uma string por caracteres específicos, se não for específicado o caracter ela assume espaço como separador\n",
        "dados = input('informe os valores separados por espaços ')\n",
        "dados_sep = dados.split()\n",
        "print(dados_sep)"
      ],
      "metadata": {
        "id": "Vcq4SvlfWlYQ"
      },
      "execution_count": null,
      "outputs": []
    },
    {
      "cell_type": "code",
      "source": [
        "# (strip) elimina caracteres indesejados de uma string, por padrão remove espaços do início e do final da string\n",
        "autor = ' Douglas '\n",
        "print(len(autor))\n",
        "autor = autor.strip()\n",
        "print(len(autor))"
      ],
      "metadata": {
        "colab": {
          "base_uri": "https://localhost:8080/"
        },
        "id": "W6fTTu2xYfO2",
        "outputId": "9d36837c-013c-44d4-da6a-91e507e4ae65"
      },
      "execution_count": null,
      "outputs": [
        {
          "output_type": "stream",
          "name": "stdout",
          "text": [
            "10\n",
            "8\n"
          ]
        }
      ]
    },
    {
      "cell_type": "code",
      "source": [
        "# (replace) substitui um caracter por outro\n",
        "preco = 'R$ 10.50'\n",
        "print(preco)\n",
        "preco = preco.replace('.',',')\n",
        "print(preco)"
      ],
      "metadata": {
        "colab": {
          "base_uri": "https://localhost:8080/"
        },
        "id": "w9ES9nPnZIJz",
        "outputId": "c79239e7-2889-4a24-c489-4abcf559dc73"
      },
      "execution_count": null,
      "outputs": [
        {
          "output_type": "stream",
          "name": "stdout",
          "text": [
            "R$ 10.50\n",
            "R$ 10,50\n"
          ]
        }
      ]
    },
    {
      "cell_type": "code",
      "source": [
        "# (title) Coloca a primeira letra de cada palavra em maiúscula\n",
        "comp = 'douglas almeida ribeiro'\n",
        "print(comp)\n",
        "comp = comp.title()\n",
        "print(comp)"
      ],
      "metadata": {
        "colab": {
          "base_uri": "https://localhost:8080/"
        },
        "id": "rW7j2XKuZ8Np",
        "outputId": "573f23be-0c1f-466b-9c52-20ec9172bf97"
      },
      "execution_count": null,
      "outputs": [
        {
          "output_type": "stream",
          "name": "stdout",
          "text": [
            "douglas almeida ribeiro\n",
            "Douglas Almeida Ribeiro\n"
          ]
        }
      ]
    },
    {
      "cell_type": "code",
      "source": [
        "# (upper) Coloca todas as letras de um texto em maiúsculas\n",
        "prof = 'douglas'\n",
        "print(prof)\n",
        "prof = prof.upper()\n",
        "print(prof)\n"
      ],
      "metadata": {
        "colab": {
          "base_uri": "https://localhost:8080/"
        },
        "id": "P4g0gyyFajQ8",
        "outputId": "d658b55f-237a-4d7e-f792-bb27a05b5316"
      },
      "execution_count": null,
      "outputs": [
        {
          "output_type": "stream",
          "name": "stdout",
          "text": [
            "douglas\n",
            "DOUGLAS\n"
          ]
        }
      ]
    }
  ]
}